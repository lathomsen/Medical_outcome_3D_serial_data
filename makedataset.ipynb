{
 "cells": [
  {
   "cell_type": "code",
   "execution_count": 1,
   "id": "2a759bc5",
   "metadata": {},
   "outputs": [],
   "source": [
    "import numpy as np\n",
    "import os\n",
    "from glob import glob\n",
    "import pandas as pd\n",
    "import matplotlib.pyplot as plt"
   ]
  },
  {
   "cell_type": "markdown",
   "id": "4b0b1e14",
   "metadata": {},
   "source": [
    "# Hjælpefunktioner"
   ]
  },
  {
   "cell_type": "code",
   "execution_count": 2,
   "id": "c56de3a6",
   "metadata": {},
   "outputs": [],
   "source": [
    "def biniaryyn_variable(dataframe, variable):\n",
    "       \n",
    "    # binary labels\n",
    "    dataframe[variable] = dataframe[variable].replace(['.: Missing Form/Incomplete Workbook','0: No','1: Yes'],[0.5,0,1])\n",
    "\n",
    "    \n",
    "def pain_values(dataframe,variable):\n",
    "    \n",
    "    # Set missing values as mean        \n",
    "    dataframe[variable] = dataframe[variable].replace(['0: None','1: Mild','2: Moderate','3: Severe','4: Extreme'],[0,1,2,3,4])\n",
    "    \n",
    "    mean = np.mean(dataframe[dataframe[variable]!='.: Missing Form/Incomplete Workbook'][variable])\n",
    "    dataframe[variable] = dataframe[variable].replace(['.: Missing Form/Incomplete Workbook'],[mean])\n",
    "    \n",
    "    \n",
    "\n",
    "def pain_values2(dataframe,variable):\n",
    "\n",
    "    dataframe[variable] = dataframe[variable].replace(['0: No pain', '1: 1', '2: 2', '3: 3', '4: 4', '5: 5','6: 6', '7: 7', '8: 8', '9: 9','10: Pain as bad as you can imagine'],[0,1,2,3,4,5,6,7,8,9,10])\n",
    "    \n",
    "    mean = np.mean(dataframe[dataframe[variable]!='.: Missing Form/Incomplete Workbook'][variable])\n",
    "    dataframe[variable] = dataframe[variable].replace(['.: Missing Form/Incomplete Workbook'],[mean])\n",
    "    \n",
    "def emotional_values(dataframe, variable):\n",
    "    # Replace missing values with mean \n",
    "    \n",
    "    dataframe[variable] = dataframe[variable].replace(['1: Rarely/none of the time (<1 day)','2: Some of the time (1-2 days)','3: Much of the time (3-4 days)','4: Most or all of the time (5-7 days)'],[1,2,3,4])\n",
    "    \n",
    "    mean = np.mean(dataframe[dataframe[variable]!='.: Missing Form/Incomplete Workbook'][variable])\n",
    "    \n",
    "    dataframe[variable] = dataframe[variable].replace(['.: Missing Form/Incomplete Workbook'],[mean])  \n",
    "\n",
    "    \n",
    "def lifechane_values(dataframe, variable):\n",
    "        dataframe[variable] = dataframe[variable].replace(['.: Missing Form/Incomplete Workbook','0: Not at all','1: Mildly', '2: Moderately',  '3: Severely', '4: Totally'],[0,0,1,2,3,4])\n",
    "\n",
    "def nan_to_mean(dataframe, variable):\n",
    "        mean = np.mean(dataframe[variable])\n",
    "        dataframe[variable] = dataframe[variable].replace(['.: Missing Form/Incomplete Workbook'],[mean])\n",
    "\n",
    "def vitamins(dataframe, variable):\n",
    "            dataframe[variable] = dataframe[variable].replace(['.: Missing Form/Incomplete Workbook',\n",
    "                                                                 '1: Didn t take',\n",
    "                                                                 '2: A few days per month',\n",
    "                                                                 '3: 4-6 days per week',\n",
    "                                                                 '4: Every day',\n",
    "                                                                 '5: 1-3 days per week'],[2,0,1,3,5,4])"
   ]
  },
  {
   "cell_type": "markdown",
   "id": "85d11aba",
   "metadata": {},
   "source": [
    "# Get subjects"
   ]
  },
  {
   "cell_type": "code",
   "execution_count": 3,
   "id": "eb80d7f7",
   "metadata": {},
   "outputs": [
    {
     "data": {
      "text/plain": [
       "1121"
      ]
     },
     "execution_count": 3,
     "metadata": {},
     "output_type": "execute_result"
    }
   ],
   "source": [
    "#subjects\n",
    "idx = np.loadtxt(\"SUBJECTS_09-03.txt\",dtype='int')\n",
    "len(idx)"
   ]
  },
  {
   "cell_type": "code",
   "execution_count": 4,
   "id": "6acb26bc",
   "metadata": {},
   "outputs": [
    {
     "data": {
      "text/plain": [
       "array([9011918, 9010952, 9020856, ..., 9992358, 9421302, 9429578])"
      ]
     },
     "execution_count": 4,
     "metadata": {},
     "output_type": "execute_result"
    }
   ],
   "source": [
    "idx"
   ]
  },
  {
   "cell_type": "markdown",
   "id": "0b0043f0",
   "metadata": {},
   "source": [
    "### Enroll data "
   ]
  },
  {
   "cell_type": "code",
   "execution_count": 5,
   "id": "f2828568",
   "metadata": {},
   "outputs": [],
   "source": [
    "enroll = \"C:/Users/python_test/Desktop/Speciale/OAIdata21/OAIdata21/Enrollees.txt\"\n",
    "df_enroll = pd.read_csv(enroll, sep=\"|\", header=0, index_col=\"ID\")\n",
    "df_enroll = df_enroll[\"P02SEX\"].replace(['1: Male','2: Female'],[0,1])"
   ]
  },
  {
   "cell_type": "code",
   "execution_count": 6,
   "id": "16714a23",
   "metadata": {},
   "outputs": [],
   "source": [
    "visit00 = \"C:/Users/python_test/Desktop/Speciale/OAIdata21/OAIdata21/AllClinical00.txt\"\n",
    "df_visit00 = pd.read_csv(visit00, sep=\"|\", header=0, index_col=\"ID\")\n",
    "\n",
    "# choose which variables to use\n",
    "    # V00AGE age\n",
    "age = df_visit00[\"V00AGE\"]"
   ]
  },
  {
   "cell_type": "markdown",
   "id": "bfa5bbb1",
   "metadata": {},
   "source": [
    "### Load dataset "
   ]
  },
  {
   "cell_type": "code",
   "execution_count": 7,
   "id": "46f22428",
   "metadata": {},
   "outputs": [],
   "source": [
    "def add_visit(visit, subjects):\n",
    "    path =  \"C:/Users/python_test/Desktop/Speciale/OAIdata21/OAIdata21/AllClinical\"+visit[1:]+\".txt\"\n",
    "\n",
    "    df_visit = pd.read_csv(path, sep=\"|\", header=0, index_col=\"ID\")\n",
    "    df_visit = df_visit[df_visit.index.isin(subjects)] \n",
    "    \n",
    "    if visit in [\"V00\"]:\n",
    "        variables_of_interest = [visit+\"WOMTSL\", visit+\"WOMTSR\",# visit+\"PMLKRCV\", visit+\"PMRKRCV\", # pain\n",
    "                               visit+\"DILKN2\",visit+\"DILKN10\",visit+\"DILKN11\",visit+\"DIRKN2\",visit+\"DIRKN10\",visit+\"DIRKN11\", visit+\"KQOL2\", #limitations\n",
    "                               visit+\"PASE\",\n",
    "                               \"V00BONEFX\", #fracture after 45 month\n",
    "                               \"P01BMI\"] #BMI] # Exercise\n",
    "        \n",
    "    \n",
    "    if visit in [\"V01\",\"V03\",\"V05\",\"V06\",\"V08\"]:\n",
    "        variables_of_interest = [visit+\"WOMTSL\", visit+\"WOMTSR\",# visit+\"PMLKRCV\", visit+\"PMRKRCV\", # pain\n",
    "                               visit+\"DILKN2\",visit+\"DILKN10\",visit+\"DILKN11\",visit+\"DIRKN2\",visit+\"DIRKN10\",visit+\"DIRKN11\", visit+\"KQOL2\", #limitations\n",
    "                               visit+\"PASE\",\n",
    "                               visit+\"BONFX\", #fracture last month\n",
    "                               visit+\"BMI\"] #BMI] # Exercise\n",
    "\n",
    "        \n",
    "    if visit in [\"V02\",\"V04\",\"V07\",\"V09\"]:\n",
    "        variables_of_interest = [visit+\"WOMTSL\", visit+\"WOMTSR\", # pain\n",
    "                               visit+\"DILKN2\",visit+\"DILKN10\",visit+\"DILKN11\",visit+\"DIRKN2\",\n",
    "                               visit+\"DIRKN10\",visit+\"DIRKN11\", visit+\"KQOL2\"] #limitations # Exercise\n",
    "    \n",
    "    df_visit = df_visit[variables_of_interest]\n",
    "\n",
    "    if visit in [\"V01\",\"V03\",\"V05\",\"V06\",\"V08\"]:\n",
    "        biniaryyn_variable(df_visit,visit+\"BONFX\")\n",
    "        \n",
    "    if visit in [\"V00\"]:\n",
    "        biniaryyn_variable(df_visit,\"V00BONEFX\")\n",
    "\n",
    "        #pain_values2(df_visit,visit+\"PMRKRCV\")\n",
    "        #pain_values2(df_visit,visit+\"PMLKRCV\")\n",
    "    #biniaryyn_variable\n",
    "\n",
    "    pain_values(df_visit,visit+\"DILKN10\")\n",
    "    pain_values(df_visit,visit+\"DILKN11\")\n",
    "    pain_values(df_visit,visit+\"DILKN2\")\n",
    "    pain_values(df_visit,visit+\"DIRKN10\")\n",
    "    pain_values(df_visit,visit+\"DIRKN11\")\n",
    "    pain_values(df_visit,visit+\"DIRKN2\")\n",
    "\n",
    "    lifechane_values(df_visit,visit+\"KQOL2\")\n",
    "\n",
    "    #Set missing values to mean\n",
    "    for col in df_visit.columns:\n",
    "        mean = np.mean(df_visit[col])\n",
    "        df_visit[col] = df_visit[col].fillna(mean)\n",
    "\n",
    "    return df_visit"
   ]
  },
  {
   "cell_type": "code",
   "execution_count": 8,
   "id": "283bcb50",
   "metadata": {},
   "outputs": [],
   "source": [
    "v0 = add_visit(\"V00\", idx)\n",
    "v1 = add_visit(\"V01\", idx)\n",
    "v2 = add_visit(\"V02\", idx)\n",
    "v3 = add_visit(\"V03\", idx)\n",
    "v4 = add_visit(\"V04\", idx)\n",
    "v5 = add_visit(\"V05\", idx)\n",
    "v6 = add_visit(\"V06\", idx)\n",
    "v7 = add_visit(\"V07\", idx)\n",
    "v8 = add_visit(\"V08\", idx)\n",
    "#v9 = add_visit(\"V09\", idx)\n",
    "#['V09BONFX', 'V09BMI', 'V09PASE'] "
   ]
  },
  {
   "cell_type": "code",
   "execution_count": null,
   "id": "68149baf",
   "metadata": {},
   "outputs": [],
   "source": []
  },
  {
   "cell_type": "code",
   "execution_count": 9,
   "id": "be4043f3",
   "metadata": {},
   "outputs": [],
   "source": [
    "#Interpolate\n",
    "v2[\"V02PASE\"] = v1[\"V01PASE\"]+ (v3[\"V03PASE\"]-v1[\"V01PASE\"])/2\n",
    "v2[\"V02BONFX\"] = (v1[\"V01BONFX\"]+v3[\"V03BONFX\"])/2\n",
    "v2[\"V02BMI\"] = v1[\"V01BMI\"]+(v3[\"V03BMI\"]-v1[\"V01BMI\"])/2\n",
    "\n",
    "v4[\"V04PASE\"] = v3[\"V03PASE\"]+ (v5[\"V05PASE\"]-v3[\"V03PASE\"])/2\n",
    "v4[\"V04BONFX\"] = (v5[\"V05BONFX\"]+v3[\"V03BONFX\"])/2\n",
    "v4[\"V04BMI\"] = v3[\"V03BMI\"]+(v5[\"V05BMI\"]-v3[\"V03BMI\"])/2\n",
    "\n",
    "v7[\"V07PASE\"] = v6[\"V06PASE\"]+ (v8[\"V08PASE\"]-v6[\"V06PASE\"])/2\n",
    "v7[\"V07BONFX\"] = (v8[\"V08BONFX\"]+v6[\"V06BONFX\"])/2\n",
    "v7[\"V07BMI\"] = v6[\"V06BMI\"]+(v8[\"V08BMI\"]-v6[\"V06BMI\"])/2"
   ]
  },
  {
   "cell_type": "markdown",
   "id": "35329c8f",
   "metadata": {},
   "source": [
    "### Get labels"
   ]
  },
  {
   "cell_type": "code",
   "execution_count": 10,
   "id": "9f486ce1",
   "metadata": {},
   "outputs": [
    {
     "data": {
      "text/plain": [
       "{'0: Baseline',\n",
       " '10: 96-month',\n",
       " '1: 12-month',\n",
       " '2: 18-month',\n",
       " '3: 24-month',\n",
       " '4: 30-month',\n",
       " '5: 36-month',\n",
       " '6: 48-month',\n",
       " '7: 60-month',\n",
       " '8: 72-month',\n",
       " '9: 84-month'}"
      ]
     },
     "execution_count": 10,
     "metadata": {},
     "output_type": "execute_result"
    }
   ],
   "source": [
    "#labels\n",
    "label_path = \"C:/Users/python_test/Desktop/Speciale/OAIdata21/OAIdata21/Outcomes99.txt\"\n",
    "df_labels = pd.read_csv(label_path, sep=\"|\", header=0, index_col=\"id\")\n",
    "set(df_labels[df_labels[\"V99ERKVSPR\"]!=\".: Missing Form/Incomplete Workbook\"][\"V99ERKVSPR\"])"
   ]
  },
  {
   "cell_type": "code",
   "execution_count": 11,
   "id": "9e03cca7",
   "metadata": {},
   "outputs": [
    {
     "name": "stdout",
     "output_type": "stream",
     "text": [
      "865\n",
      "123\n"
     ]
    }
   ],
   "source": [
    "a=np.loadtxt(\"SUBJECTS_09-03.txt\",dtype='str')\n",
    "#[v0,v1,v3,v5,v6]\n",
    "l_v356 = []\n",
    "kontrol = []\n",
    "l_v135 = []\n",
    "l_v013 = []\n",
    "count = 0\n",
    "l=0\n",
    "#V99ELKTPPR Outcomes: left knee, type of partial follow- up knee replacement \n",
    "#V99ELKVSPR Outcomes: left knee, closest OAI contact prior to follow- up knee replacement\n",
    "\n",
    "\n",
    "for id in df_labels[df_labels.index.isin(a.astype(int))].index:\n",
    "    if df_labels.loc[id][\"V99ELKTLPR\"]== '.: Missing Form/Incomplete Workbook':\n",
    "        kontrol.append(id)\n",
    "print(len(kontrol))\n",
    "\n",
    "\n",
    "for id in df_labels[df_labels.index.isin(a.astype(int))].index:\n",
    "    if df_labels.loc[id][\"V99ELKTLPR\"] in ['1: Total', '2: Partial']:\n",
    "    \n",
    "        if df_labels.loc[id][\"V99ELKVSPR\"] in [\"6: 48-month\",\"7: 60-month\",\"8: 72-month\",\"9: 84-month\",\"10: 96-month\"]:\n",
    "            l_v356.append(id)\n",
    "            l_v356.append(kontrol[0])\n",
    "            l_v356.append(kontrol[1])\n",
    "            kontrol = kontrol[2:]\n",
    "\n",
    "        elif df_labels.loc[id][\"V99ELKVSPR\"] in ['5: 36-month']:\n",
    "            l_v135.append(id)\n",
    "            l_v135.append(kontrol[0])\n",
    "            l_v135.append(kontrol[1])\n",
    "            kontrol = kontrol[2:]\n",
    "\n",
    "        elif df_labels.loc[id][\"V99ELKVSPR\"] in ['3: 24-month', '4: 30-month']:\n",
    "            l_v013.append(id)\n",
    "            l_v013.append(kontrol[0])\n",
    "            l_v013.append(kontrol[1])\n",
    "            kontrol = kontrol[2:]\n",
    "\n",
    "        elif df_labels.loc[id][\"V99ELKVSPR\"] in ['0: Baseline', '1: 12-month', '2: 18-month']:\n",
    "            kontrol = kontrol[2:]\n",
    "            count +=1\n",
    "\n",
    "    if df_labels.loc[id][\"V99ERKTLPR\"] in ['1: Total', '2: Partial']:\n",
    "\n",
    "            if df_labels.loc[id][\"V99ERKVSPR\"] in [\"6: 48-month\",\"7: 60-month\",\"8: 72-month\",\"9: 84-month\",\"10: 96-month\"]:\n",
    "                l_v356.append(id)\n",
    "                l_v356.append(kontrol[0])\n",
    "                l_v356.append(kontrol[1])\n",
    "                kontrol = kontrol[2:]\n",
    "\n",
    "            elif df_labels.loc[id][\"V99ERKVSPR\"] in ['5: 36-month']:\n",
    "                l_v135.append(id)\n",
    "                l_v135.append(kontrol[0])\n",
    "                l_v135.append(kontrol[1])\n",
    "                kontrol = kontrol[2:]\n",
    "\n",
    "            elif df_labels.loc[id][\"V99ERKVSPR\"] in ['3: 24-month', '4: 30-month']:\n",
    "                l_v013.append(id)\n",
    "                l_v013.append(kontrol[0])\n",
    "                l_v013.append(kontrol[1])\n",
    "                kontrol = kontrol[2:]\n",
    "\n",
    "            elif df_labels.loc[id][\"V99ERKVSPR\"] in ['0: Baseline', '1: 12-month', '2: 18-month']:\n",
    "                kontrol = kontrol[2:]\n",
    "                count +=1\n",
    "\n",
    "print(len(kontrol))\n",
    "# 46 Deleted as they had knee surgery witin the before 24-month visit"
   ]
  },
  {
   "cell_type": "code",
   "execution_count": 12,
   "id": "bc8825ca",
   "metadata": {},
   "outputs": [],
   "source": [
    "#l_v356.to_csv(\"l_v356\")\n",
    "#l_v135.to_csv(\"l_v135\")\n",
    "#l_v013.to_csv(\"l_v013\")\n",
    "\n",
    "np.savetxt(\"l_v013.csv\", \n",
    "           l_v013,\n",
    "           delimiter =\", \", \n",
    "           fmt ='% s')\n",
    "\n",
    "np.savetxt(\"l_v135.csv\", \n",
    "           l_v135,\n",
    "           delimiter =\", \", \n",
    "           fmt ='% s')\n",
    "\n",
    "np.savetxt(\"l_v356.csv\", \n",
    "           l_v356,\n",
    "           delimiter =\", \", \n",
    "           fmt ='% s')"
   ]
  },
  {
   "cell_type": "markdown",
   "id": "f0400a95",
   "metadata": {},
   "source": [
    "# Make data set with multiple visits"
   ]
  },
  {
   "cell_type": "code",
   "execution_count": 13,
   "id": "e27807b2",
   "metadata": {},
   "outputs": [],
   "source": [
    "#Make data set with multiple visits\n",
    "v01356 = pd.concat( [df_enroll,age,v0,v1,v3,v5,v6, df_labels[\"V99ELKVSPR\"], df_labels[\"V99ERKVSPR\"]], axis=1, join=\"inner\")\n",
    "v01356 = v01356.loc[l_v356]\n",
    "v01356[\"V99ELKVSPR\"]=np.where(v01356[\"V99ELKVSPR\"]==\".: Missing Form/Incomplete Workbook\",0,1)\n",
    "v01356[\"V99ERKVSPR\"]=np.where(v01356[\"V99ERKVSPR\"]==\".: Missing Form/Incomplete Workbook\",0,1)\n",
    "\n",
    "v01356 = v01356.dropna()\n",
    "v01356.to_csv(\"v01356.csv\")"
   ]
  },
  {
   "cell_type": "markdown",
   "id": "198e07d6",
   "metadata": {},
   "source": [
    "# Make dataset with three visits"
   ]
  },
  {
   "cell_type": "code",
   "execution_count": 14,
   "id": "b9411196",
   "metadata": {},
   "outputs": [],
   "source": [
    "v013 = pd.concat( [df_enroll,age,v0,v1,v3,df_labels[\"V99ELKVSPR\"], df_labels[\"V99ERKVSPR\"]], axis=1, join=\"inner\")\n",
    "v013 = v013.loc[l_v013]\n",
    "\n",
    "v135 = pd.concat( [df_enroll,age,v1,v3,v5,df_labels[\"V99ELKVSPR\"], df_labels[\"V99ERKVSPR\"]], axis=1, join=\"inner\")\n",
    "v135 = v135.loc[l_v135]\n",
    "v135.set_axis(list(v013.columns), axis=1, inplace=True)\n",
    "\n",
    "v356 = pd.concat( [df_enroll,age,v3,v5,v6,df_labels[\"V99ELKVSPR\"], df_labels[\"V99ERKVSPR\"]], axis=1, join=\"inner\")\n",
    "v356 = v356.loc[l_v356]\n",
    "v356.set_axis(list(v013.columns), axis=1, inplace=True)"
   ]
  },
  {
   "cell_type": "code",
   "execution_count": 15,
   "id": "39b6935d",
   "metadata": {},
   "outputs": [],
   "source": [
    "v_all = pd.concat([v013,v135,v356])\n",
    "v_all[\"V99ELKTPPR\"]=np.where(v_all[\"V99ELKVSPR\"]==\".: Missing Form/Incomplete Workbook\",0,1)\n",
    "v_all[\"V99ERKTPPR\"]=np.where(v_all[\"V99ERKVSPR\"]==\".: Missing Form/Incomplete Workbook\",0,1)"
   ]
  },
  {
   "cell_type": "code",
   "execution_count": 16,
   "id": "5b36cb9b",
   "metadata": {},
   "outputs": [],
   "source": [
    "from sklearn.model_selection import train_test_split\n",
    "matched_15032022, validation_15032022 = train_test_split(v_all, test_size=0.20, random_state=42, shuffle=True)\n",
    "matched_15032022.to_csv(\"matched!_15032022\")\n",
    "validation_15032022.to_csv(\"validation!_15032022\")"
   ]
  },
  {
   "cell_type": "code",
   "execution_count": null,
   "id": "179e25de",
   "metadata": {},
   "outputs": [],
   "source": []
  },
  {
   "cell_type": "code",
   "execution_count": 17,
   "id": "ebbadd15",
   "metadata": {},
   "outputs": [
    {
     "data": {
      "text/plain": [
       "Int64Index([9014797, 9001897, 9002316, 9014883, 9002817, 9003126, 9030718,\n",
       "            9003815, 9003895, 9034451,\n",
       "            ...\n",
       "            9360202, 9992318, 9375122, 9375317, 9992358, 9376106, 9379276,\n",
       "            9992358, 9381278, 9382719],\n",
       "           dtype='int64', length=738)"
      ]
     },
     "execution_count": 17,
     "metadata": {},
     "output_type": "execute_result"
    }
   ],
   "source": [
    "(v356.index)"
   ]
  },
  {
   "cell_type": "markdown",
   "id": "8582d4b2",
   "metadata": {},
   "source": [
    "## Check if images there"
   ]
  },
  {
   "cell_type": "code",
   "execution_count": 18,
   "id": "244616d5",
   "metadata": {},
   "outputs": [
    {
     "name": "stdout",
     "output_type": "stream",
     "text": [
      "initial amount l_v013 123\n",
      "In folder l_v013:  678\n",
      "missing l_v013:  25\n",
      "initial amount v135 114\n",
      "In folder v135:  583\n",
      "missing v135:  26\n",
      "initial amount v356 738\n",
      "In folder v356:  1989\n",
      "missing v356:  225\n"
     ]
    }
   ],
   "source": [
    "directory = 'Z:/OsteoarthritisInitiative/my_predictions/nii_files'\n",
    "segments_in_folder = os.listdir(directory)\n",
    "\n",
    "print(\"initial amount l_v013\", len(l_v013))\n",
    "mis013 = []\n",
    "n_imgs = 0\n",
    "for sub in v013.index:\n",
    "    for v in [\"V00\",\"V01\",\"V03\"]:\n",
    "        left = str(sub)+\"-Left-\"+v+\"_PRED.nii.gz\"\n",
    "        right = str(sub)+\"-Right-\"+v+\"_PRED.nii.gz\"\n",
    "        \n",
    "        if left in segments_in_folder:\n",
    "            n_imgs+=1\n",
    "        \n",
    "        if right in segments_in_folder:\n",
    "            n_imgs+=1\n",
    "            \n",
    "        else:\n",
    "            mis013.append(sub)\n",
    "        \n",
    "print(\"In folder l_v013: \", n_imgs)\n",
    "print(\"missing l_v013: \", len(mis013))\n",
    "\n",
    "\n",
    "print(\"initial amount v135\", len(v135))\n",
    "mis135 = []\n",
    "n_imgs = 0\n",
    "for sub in v135.index:\n",
    "    for v in [\"V01\",\"V03\",\"V05\"]:\n",
    "        left = str(sub)+\"-Left-\"+v+\"_PRED.nii.gz\"\n",
    "        right = str(sub)+\"-Right-\"+v+\"_PRED.nii.gz\"\n",
    "        \n",
    "        if left in segments_in_folder:\n",
    "            n_imgs+=1\n",
    "        \n",
    "        if right in segments_in_folder:\n",
    "            n_imgs+=1\n",
    "            \n",
    "        else:\n",
    "            mis135.append(sub)\n",
    "        \n",
    "print(\"In folder v135: \", n_imgs)\n",
    "print(\"missing v135: \", len(mis135))\n",
    "\n",
    "\n",
    "print(\"initial amount v356\", len(v356))\n",
    "mis356 = []\n",
    "n_imgs = 0\n",
    "for sub in v356.index:\n",
    "    for v in [\"V03\",\"V05\",\"V06\"]:\n",
    "        left = str(sub)+\"-Left-\"+v+\"_PRED.nii.gz\"\n",
    "        right = str(sub)+\"-Right-\"+v+\"_PRED.nii.gz\"\n",
    "        \n",
    "        if left in segments_in_folder:\n",
    "            n_imgs+=1\n",
    "        \n",
    "        elif right in segments_in_folder:\n",
    "            n_imgs+=1\n",
    "            \n",
    "        else:\n",
    "            mis356.append(sub)\n",
    "        \n",
    "print(\"In folder v356: \", n_imgs)\n",
    "print(\"missing v356: \", len(mis356))"
   ]
  },
  {
   "cell_type": "code",
   "execution_count": 19,
   "id": "d46e0648",
   "metadata": {},
   "outputs": [
    {
     "data": {
      "text/plain": [
       "276"
      ]
     },
     "execution_count": 19,
     "metadata": {},
     "output_type": "execute_result"
    }
   ],
   "source": [
    "#130+82+482\n",
    "#126+81+468\n",
    "#83+61+327\n",
    "#79+58+317\n",
    "#45+26+282\n",
    "25+26+225"
   ]
  },
  {
   "cell_type": "code",
   "execution_count": 20,
   "id": "2cb47637",
   "metadata": {},
   "outputs": [
    {
     "data": {
      "text/plain": [
       "158"
      ]
     },
     "execution_count": 20,
     "metadata": {},
     "output_type": "execute_result"
    }
   ],
   "source": [
    "len(set(mis356+mis135+mis013))"
   ]
  },
  {
   "cell_type": "code",
   "execution_count": null,
   "id": "a7c215a0",
   "metadata": {},
   "outputs": [],
   "source": []
  },
  {
   "cell_type": "markdown",
   "id": "ea96a4c7",
   "metadata": {},
   "source": [
    "### get missing images"
   ]
  },
  {
   "cell_type": "code",
   "execution_count": 21,
   "id": "d45b54ee",
   "metadata": {},
   "outputs": [],
   "source": [
    "a=np.loadtxt(\"SUBJECTS_09-03.txt\",dtype='str')\n",
    "all_img = []\n",
    "\n",
    "for subject in a:\n",
    "    #9000798-Left-V00\n",
    "    \n",
    "    for v in [\"V00\",\"V01\",\"V03\",\"V05\",\"V06\"]:\n",
    "        img_name = subject +\"-Left-\"+v        \n",
    "        all_img.append( img_name )\n",
    "        img_name2 = subject +\"-Right-\"+v\n",
    "        all_img.append( img_name2 )"
   ]
  },
  {
   "cell_type": "code",
   "execution_count": 22,
   "id": "cd226fe5",
   "metadata": {},
   "outputs": [],
   "source": [
    "directory = 'Z:/OsteoarthritisInitiative/NIFTY'\n",
    "b = os.listdir(directory)\n",
    "b = [filename[:-7] for filename in b]"
   ]
  },
  {
   "cell_type": "code",
   "execution_count": 23,
   "id": "67618f9a",
   "metadata": {},
   "outputs": [
    {
     "name": "stdout",
     "output_type": "stream",
     "text": [
      "before:  11210\n",
      "Missing:  1756\n"
     ]
    }
   ],
   "source": [
    "print(\"before: \", len(all_img))\n",
    "\n",
    "missing = []\n",
    "for i in all_img:\n",
    "    if i in b:\n",
    "        #print(\"in b\")\n",
    "        continue\n",
    "        \n",
    "    \n",
    "    if i not in b:\n",
    "        #print(i)\n",
    "        missing.append(i+\".nii.gz\")\n",
    "\n",
    "#all_img\n",
    "print(\"Missing: \", len(missing))"
   ]
  },
  {
   "cell_type": "code",
   "execution_count": 24,
   "id": "a827501d",
   "metadata": {},
   "outputs": [],
   "source": [
    "#pd.DataFrame(missing, index=False)\n",
    "np.savetxt(\"missing.csv\", \n",
    "           missing,\n",
    "           delimiter =\", \", \n",
    "           fmt ='% s')"
   ]
  },
  {
   "cell_type": "markdown",
   "id": "a1ba6dc2",
   "metadata": {},
   "source": [
    "Check mri complete"
   ]
  },
  {
   "cell_type": "code",
   "execution_count": 25,
   "id": "b554a68a",
   "metadata": {},
   "outputs": [],
   "source": [
    "subs = [int(file[:7]) for file in missing]\n",
    "\n",
    "df_path = \"C:/Users/python_test/Desktop/Speciale/OAIdata21/OAIdata21/MRI03.txt\"\n",
    "df_mri_1 = pd.read_csv(df_path, sep=\"|\", header=0, index_col=\"ID\")\n",
    "#set(df_labels[df_labels[\"V99ERKVSPR\"]!=\".: Missing Form/Incomplete Workbook\"][\"V99ERKVSPR\"])"
   ]
  },
  {
   "cell_type": "code",
   "execution_count": 26,
   "id": "c93c84a5",
   "metadata": {
    "scrolled": true
   },
   "outputs": [],
   "source": [
    "for i in missing:\n",
    "    if i[:7] in df_mri_1[df_mri_1[\"V03MNDREAS\"]=='.: Missing Form/Incomplete Workbook'].index:\n",
    "        print(\"wuhuu\")"
   ]
  },
  {
   "cell_type": "code",
   "execution_count": 27,
   "id": "7176f921",
   "metadata": {},
   "outputs": [
    {
     "data": {
      "text/html": [
       "<div>\n",
       "<style scoped>\n",
       "    .dataframe tbody tr th:only-of-type {\n",
       "        vertical-align: middle;\n",
       "    }\n",
       "\n",
       "    .dataframe tbody tr th {\n",
       "        vertical-align: top;\n",
       "    }\n",
       "\n",
       "    .dataframe thead th {\n",
       "        text-align: right;\n",
       "    }\n",
       "</style>\n",
       "<table border=\"1\" class=\"dataframe\">\n",
       "  <thead>\n",
       "    <tr style=\"text-align: right;\">\n",
       "      <th></th>\n",
       "      <th>VERSION</th>\n",
       "      <th>V03MEXAMTP</th>\n",
       "      <th>V03MNDREAS</th>\n",
       "      <th>V03MRBARCD</th>\n",
       "      <th>V03MRCOMP</th>\n",
       "      <th>V03MRDATE</th>\n",
       "      <th>V03MRMARK</th>\n",
       "      <th>V03MRSIDE</th>\n",
       "      <th>V03MRSURDY</th>\n",
       "      <th>V03MRTECID</th>\n",
       "      <th>V03QCRESLT</th>\n",
       "      <th>V03SCNUPGR</th>\n",
       "    </tr>\n",
       "    <tr>\n",
       "      <th>ID</th>\n",
       "      <th></th>\n",
       "      <th></th>\n",
       "      <th></th>\n",
       "      <th></th>\n",
       "      <th></th>\n",
       "      <th></th>\n",
       "      <th></th>\n",
       "      <th></th>\n",
       "      <th></th>\n",
       "      <th></th>\n",
       "      <th></th>\n",
       "      <th></th>\n",
       "    </tr>\n",
       "  </thead>\n",
       "  <tbody>\n",
       "    <tr>\n",
       "      <th>9000099</th>\n",
       "      <td>3.2.3</td>\n",
       "      <td>L COR T1 3D FLASH WE</td>\n",
       "      <td>8: Knee with short protocol</td>\n",
       "      <td>NaN</td>\n",
       "      <td>0: No</td>\n",
       "      <td>NaN</td>\n",
       "      <td>.: Missing Form/Incomplete Workbook</td>\n",
       "      <td>2: Left</td>\n",
       "      <td>NaN</td>\n",
       "      <td>NaN</td>\n",
       "      <td>NaN</td>\n",
       "      <td>.: Missing Form/Incomplete Workbook</td>\n",
       "    </tr>\n",
       "    <tr>\n",
       "      <th>9000099</th>\n",
       "      <td>3.2.3</td>\n",
       "      <td>L SAG T2 MAP</td>\n",
       "      <td>8: Knee with short protocol</td>\n",
       "      <td>NaN</td>\n",
       "      <td>0: No</td>\n",
       "      <td>NaN</td>\n",
       "      <td>.: Missing Form/Incomplete Workbook</td>\n",
       "      <td>2: Left</td>\n",
       "      <td>NaN</td>\n",
       "      <td>NaN</td>\n",
       "      <td>NaN</td>\n",
       "      <td>.: Missing Form/Incomplete Workbook</td>\n",
       "    </tr>\n",
       "    <tr>\n",
       "      <th>9000099</th>\n",
       "      <td>3.2.3</td>\n",
       "      <td>THIGH T1</td>\n",
       "      <td>.: Missing Form/Incomplete Workbook</td>\n",
       "      <td>1.661191e+10</td>\n",
       "      <td>1: Yes</td>\n",
       "      <td>08/10/2007</td>\n",
       "      <td>.: Missing Form/Incomplete Workbook</td>\n",
       "      <td>3: Bilateral</td>\n",
       "      <td>NaN</td>\n",
       "      <td>B056</td>\n",
       "      <td>'YD': Not QCd and accepted by default</td>\n",
       "      <td>0: Original OAI Siemens Trio MR used</td>\n",
       "    </tr>\n",
       "    <tr>\n",
       "      <th>9000099</th>\n",
       "      <td>3.2.3</td>\n",
       "      <td>OAI Prescription</td>\n",
       "      <td>.: Missing Form/Incomplete Workbook</td>\n",
       "      <td>1.661191e+10</td>\n",
       "      <td>1: Yes</td>\n",
       "      <td>08/10/2007</td>\n",
       "      <td>.: Missing Form/Incomplete Workbook</td>\n",
       "      <td>3: Bilateral</td>\n",
       "      <td>NaN</td>\n",
       "      <td>B056</td>\n",
       "      <td>'YD': Not QCd and accepted by default</td>\n",
       "      <td>0: Original OAI Siemens Trio MR used</td>\n",
       "    </tr>\n",
       "    <tr>\n",
       "      <th>9000099</th>\n",
       "      <td>3.2.3</td>\n",
       "      <td>L SAG 3D DESS WE</td>\n",
       "      <td>.: Missing Form/Incomplete Workbook</td>\n",
       "      <td>1.661191e+10</td>\n",
       "      <td>1: Yes</td>\n",
       "      <td>08/10/2007</td>\n",
       "      <td>0: No</td>\n",
       "      <td>2: Left</td>\n",
       "      <td>NaN</td>\n",
       "      <td>B056</td>\n",
       "      <td>'YD': Not QCd and accepted by default</td>\n",
       "      <td>0: Original OAI Siemens Trio MR used</td>\n",
       "    </tr>\n",
       "    <tr>\n",
       "      <th>...</th>\n",
       "      <td>...</td>\n",
       "      <td>...</td>\n",
       "      <td>...</td>\n",
       "      <td>...</td>\n",
       "      <td>...</td>\n",
       "      <td>...</td>\n",
       "      <td>...</td>\n",
       "      <td>...</td>\n",
       "      <td>...</td>\n",
       "      <td>...</td>\n",
       "      <td>...</td>\n",
       "      <td>...</td>\n",
       "    </tr>\n",
       "    <tr>\n",
       "      <th>9999878</th>\n",
       "      <td>3.2.3</td>\n",
       "      <td>R SAG IW TSE FS</td>\n",
       "      <td>.: Missing Form/Incomplete Workbook</td>\n",
       "      <td>1.661141e+10</td>\n",
       "      <td>1: Yes</td>\n",
       "      <td>01/03/2007</td>\n",
       "      <td>0: No</td>\n",
       "      <td>1: Right</td>\n",
       "      <td>124.0</td>\n",
       "      <td>C016</td>\n",
       "      <td>'YD': Not QCd and accepted by default</td>\n",
       "      <td>0: Original OAI Siemens Trio MR used</td>\n",
       "    </tr>\n",
       "    <tr>\n",
       "      <th>9999878</th>\n",
       "      <td>3.2.3</td>\n",
       "      <td>R AXIAL MPR</td>\n",
       "      <td>.: Missing Form/Incomplete Workbook</td>\n",
       "      <td>1.661141e+10</td>\n",
       "      <td>1: Yes</td>\n",
       "      <td>01/03/2007</td>\n",
       "      <td>0: No</td>\n",
       "      <td>1: Right</td>\n",
       "      <td>124.0</td>\n",
       "      <td>C016</td>\n",
       "      <td>'YD': Not QCd and accepted by default</td>\n",
       "      <td>0: Original OAI Siemens Trio MR used</td>\n",
       "    </tr>\n",
       "    <tr>\n",
       "      <th>9999878</th>\n",
       "      <td>3.2.3</td>\n",
       "      <td>R COR MPR</td>\n",
       "      <td>.: Missing Form/Incomplete Workbook</td>\n",
       "      <td>1.661141e+10</td>\n",
       "      <td>1: Yes</td>\n",
       "      <td>01/03/2007</td>\n",
       "      <td>0: No</td>\n",
       "      <td>1: Right</td>\n",
       "      <td>124.0</td>\n",
       "      <td>C016</td>\n",
       "      <td>'YD': Not QCd and accepted by default</td>\n",
       "      <td>0: Original OAI Siemens Trio MR used</td>\n",
       "    </tr>\n",
       "    <tr>\n",
       "      <th>9999878</th>\n",
       "      <td>3.2.3</td>\n",
       "      <td>R COR T1 3D FLASH WE</td>\n",
       "      <td>.: Missing Form/Incomplete Workbook</td>\n",
       "      <td>1.661141e+10</td>\n",
       "      <td>1: Yes</td>\n",
       "      <td>01/03/2007</td>\n",
       "      <td>0: No</td>\n",
       "      <td>1: Right</td>\n",
       "      <td>124.0</td>\n",
       "      <td>C016</td>\n",
       "      <td>'YD': Not QCd and accepted by default</td>\n",
       "      <td>0: Original OAI Siemens Trio MR used</td>\n",
       "    </tr>\n",
       "    <tr>\n",
       "      <th>9999878</th>\n",
       "      <td>3.2.3</td>\n",
       "      <td>R SAG T2 MAP</td>\n",
       "      <td>.: Missing Form/Incomplete Workbook</td>\n",
       "      <td>1.661141e+10</td>\n",
       "      <td>1: Yes</td>\n",
       "      <td>01/03/2007</td>\n",
       "      <td>0: No</td>\n",
       "      <td>1: Right</td>\n",
       "      <td>124.0</td>\n",
       "      <td>C016</td>\n",
       "      <td>'YD': Not QCd and accepted by default</td>\n",
       "      <td>0: Original OAI Siemens Trio MR used</td>\n",
       "    </tr>\n",
       "  </tbody>\n",
       "</table>\n",
       "<p>76306 rows × 12 columns</p>\n",
       "</div>"
      ],
      "text/plain": [
       "        VERSION            V03MEXAMTP                           V03MNDREAS  \\\n",
       "ID                                                                           \n",
       "9000099   3.2.3  L COR T1 3D FLASH WE          8: Knee with short protocol   \n",
       "9000099   3.2.3          L SAG T2 MAP          8: Knee with short protocol   \n",
       "9000099   3.2.3              THIGH T1  .: Missing Form/Incomplete Workbook   \n",
       "9000099   3.2.3      OAI Prescription  .: Missing Form/Incomplete Workbook   \n",
       "9000099   3.2.3      L SAG 3D DESS WE  .: Missing Form/Incomplete Workbook   \n",
       "...         ...                   ...                                  ...   \n",
       "9999878   3.2.3       R SAG IW TSE FS  .: Missing Form/Incomplete Workbook   \n",
       "9999878   3.2.3           R AXIAL MPR  .: Missing Form/Incomplete Workbook   \n",
       "9999878   3.2.3             R COR MPR  .: Missing Form/Incomplete Workbook   \n",
       "9999878   3.2.3  R COR T1 3D FLASH WE  .: Missing Form/Incomplete Workbook   \n",
       "9999878   3.2.3          R SAG T2 MAP  .: Missing Form/Incomplete Workbook   \n",
       "\n",
       "           V03MRBARCD V03MRCOMP   V03MRDATE  \\\n",
       "ID                                            \n",
       "9000099           NaN     0: No         NaN   \n",
       "9000099           NaN     0: No         NaN   \n",
       "9000099  1.661191e+10    1: Yes  08/10/2007   \n",
       "9000099  1.661191e+10    1: Yes  08/10/2007   \n",
       "9000099  1.661191e+10    1: Yes  08/10/2007   \n",
       "...               ...       ...         ...   \n",
       "9999878  1.661141e+10    1: Yes  01/03/2007   \n",
       "9999878  1.661141e+10    1: Yes  01/03/2007   \n",
       "9999878  1.661141e+10    1: Yes  01/03/2007   \n",
       "9999878  1.661141e+10    1: Yes  01/03/2007   \n",
       "9999878  1.661141e+10    1: Yes  01/03/2007   \n",
       "\n",
       "                                   V03MRMARK     V03MRSIDE  V03MRSURDY  \\\n",
       "ID                                                                       \n",
       "9000099  .: Missing Form/Incomplete Workbook       2: Left         NaN   \n",
       "9000099  .: Missing Form/Incomplete Workbook       2: Left         NaN   \n",
       "9000099  .: Missing Form/Incomplete Workbook  3: Bilateral         NaN   \n",
       "9000099  .: Missing Form/Incomplete Workbook  3: Bilateral         NaN   \n",
       "9000099                                0: No       2: Left         NaN   \n",
       "...                                      ...           ...         ...   \n",
       "9999878                                0: No      1: Right       124.0   \n",
       "9999878                                0: No      1: Right       124.0   \n",
       "9999878                                0: No      1: Right       124.0   \n",
       "9999878                                0: No      1: Right       124.0   \n",
       "9999878                                0: No      1: Right       124.0   \n",
       "\n",
       "        V03MRTECID                             V03QCRESLT  \\\n",
       "ID                                                          \n",
       "9000099        NaN                                    NaN   \n",
       "9000099        NaN                                    NaN   \n",
       "9000099       B056  'YD': Not QCd and accepted by default   \n",
       "9000099       B056  'YD': Not QCd and accepted by default   \n",
       "9000099       B056  'YD': Not QCd and accepted by default   \n",
       "...            ...                                    ...   \n",
       "9999878       C016  'YD': Not QCd and accepted by default   \n",
       "9999878       C016  'YD': Not QCd and accepted by default   \n",
       "9999878       C016  'YD': Not QCd and accepted by default   \n",
       "9999878       C016  'YD': Not QCd and accepted by default   \n",
       "9999878       C016  'YD': Not QCd and accepted by default   \n",
       "\n",
       "                                   V03SCNUPGR  \n",
       "ID                                             \n",
       "9000099   .: Missing Form/Incomplete Workbook  \n",
       "9000099   .: Missing Form/Incomplete Workbook  \n",
       "9000099  0: Original OAI Siemens Trio MR used  \n",
       "9000099  0: Original OAI Siemens Trio MR used  \n",
       "9000099  0: Original OAI Siemens Trio MR used  \n",
       "...                                       ...  \n",
       "9999878  0: Original OAI Siemens Trio MR used  \n",
       "9999878  0: Original OAI Siemens Trio MR used  \n",
       "9999878  0: Original OAI Siemens Trio MR used  \n",
       "9999878  0: Original OAI Siemens Trio MR used  \n",
       "9999878  0: Original OAI Siemens Trio MR used  \n",
       "\n",
       "[76306 rows x 12 columns]"
      ]
     },
     "execution_count": 27,
     "metadata": {},
     "output_type": "execute_result"
    }
   ],
   "source": [
    "df_mri_1\n",
    "\n",
    "#missing"
   ]
  },
  {
   "cell_type": "code",
   "execution_count": null,
   "id": "14b0595e",
   "metadata": {},
   "outputs": [],
   "source": []
  },
  {
   "cell_type": "code",
   "execution_count": null,
   "id": "e4ba2126",
   "metadata": {},
   "outputs": [],
   "source": []
  },
  {
   "cell_type": "code",
   "execution_count": null,
   "id": "0cdcd172",
   "metadata": {},
   "outputs": [],
   "source": []
  },
  {
   "cell_type": "code",
   "execution_count": null,
   "id": "59c841f5",
   "metadata": {},
   "outputs": [],
   "source": []
  },
  {
   "cell_type": "code",
   "execution_count": null,
   "id": "8f169ce1",
   "metadata": {},
   "outputs": [],
   "source": []
  },
  {
   "cell_type": "code",
   "execution_count": null,
   "id": "3a121898",
   "metadata": {},
   "outputs": [],
   "source": []
  }
 ],
 "metadata": {
  "kernelspec": {
   "display_name": "Python 3 (ipykernel)",
   "language": "python",
   "name": "python3"
  },
  "language_info": {
   "codemirror_mode": {
    "name": "ipython",
    "version": 3
   },
   "file_extension": ".py",
   "mimetype": "text/x-python",
   "name": "python",
   "nbconvert_exporter": "python",
   "pygments_lexer": "ipython3",
   "version": "3.7.11"
  }
 },
 "nbformat": 4,
 "nbformat_minor": 5
}
